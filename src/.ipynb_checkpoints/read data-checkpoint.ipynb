{
 "cells": [
  {
   "cell_type": "code",
   "execution_count": 1,
   "metadata": {
    "collapsed": true
   },
   "outputs": [],
   "source": [
    "import lib.PrintImg\n",
    "import lib.DataInput"
   ]
  },
  {
   "cell_type": "code",
   "execution_count": 2,
   "metadata": {
    "collapsed": true
   },
   "outputs": [],
   "source": [
    "file1 = \"0043db5e8c819bffc15261b1f1ac5e42.aps\"\n",
    "file2 = \"00360f79fd6e02781457eda48f85da90.aps\"\n",
    "lib.PrintImg.save_images(\"../sample_data/\"+file2,\"../sample_image/\"+file2)"
   ]
  },
  {
   "cell_type": "code",
   "execution_count": 13,
   "metadata": {
    "collapsed": true
   },
   "outputs": [],
   "source": [
    "data = lib.DataInput.read_data(\"../sample_data/\"+file2)"
   ]
  },
  {
   "cell_type": "code",
   "execution_count": 12,
   "metadata": {},
   "outputs": [
    {
     "data": {
      "text/plain": [
       "(512, 660, 16)"
      ]
     },
     "execution_count": 12,
     "metadata": {},
     "output_type": "execute_result"
    }
   ],
   "source": [
    "data.shape"
   ]
  },
  {
   "cell_type": "code",
   "execution_count": 4,
   "metadata": {},
   "outputs": [
    {
     "data": {
      "text/plain": [
       "Index(['Id', 'Probability'], dtype='object')"
      ]
     },
     "execution_count": 4,
     "metadata": {},
     "output_type": "execute_result"
    }
   ],
   "source": [
    "import pandas as pd\n",
    "data_label = pd.read_csv(\"../data/stage1_labels.csv\")\n",
    "data_label.columns"
   ]
  },
  {
   "cell_type": "code",
   "execution_count": 6,
   "metadata": {},
   "outputs": [],
   "source": [
    "import re\n",
    "data_label[\"graph_ID\"]= data_label[\"Id\"].map(lambda x: re.split(\"_\",x)[0])\n",
    "data_label[\"Zone\"]= data_label[\"Id\"].map(lambda x: re.split(\"_\",x)[1][4:])"
   ]
  },
  {
   "cell_type": "code",
   "execution_count": 14,
   "metadata": {},
   "outputs": [],
   "source": [
    "label = data_label.pivot(index='graph_ID', columns='Zone', values='Probability')"
   ]
  },
  {
   "cell_type": "code",
   "execution_count": 38,
   "metadata": {},
   "outputs": [],
   "source": [
    "import numpy as np\n",
    "label = label[[str(i) for i in range(1,18)]]\n",
    "label_dict = dict()\n",
    "for index, row in label.iterrows():\n",
    "    label_dict[index] = row.tolist()"
   ]
  },
  {
   "cell_type": "code",
   "execution_count": 91,
   "metadata": {},
   "outputs": [
    {
     "name": "stderr",
     "output_type": "stream",
     "text": [
      "Directory path : ../sample_data/\n",
      "Total number of files : 4\n",
      "Current file : [1/4]\n",
      "Current file : [2/4]\n",
      "Current file : [3/4]\n",
      "Current file : [4/4]\n"
     ]
    }
   ],
   "source": [
    "from os import walk,path\n",
    "import sys\n",
    "name_list=[]\n",
    "graph_list = []\n",
    "response = []\n",
    "for (dirpath, dirnames, filenames) in walk(\"../sample_data/\"):\n",
    "    sys.stderr.write(\"Directory path : \"+dirpath+'\\n')\n",
    "    sys.stderr.write(\"Total number of files : \"+ str(len(filenames))+'\\n')\n",
    "    file_index=  0\n",
    "    for name in filenames:\n",
    "        file_index +=1\n",
    "        sys.stderr.write(\"Current file : \"+'['+str(file_index)+'/'+str(len(filenames))+']'+'\\n')\n",
    "        if name[0] =='.':\n",
    "            continue\n",
    "        if re.split('\\.',str(name))[-1] == 'aps':\n",
    "            G_id = re.split('\\.',str(name))[0]\n",
    "            name_list.append(G_id)\n",
    "            graph_list.append(lib.DataInput.read_data(path.join(dirpath, name)))\n",
    "            response.append(label_dict.get(G_id))\n",
    " "
   ]
  },
  {
   "cell_type": "code",
   "execution_count": 95,
   "metadata": {},
   "outputs": [
    {
     "name": "stdout",
     "output_type": "stream",
     "text": [
      "[0, 0, 0, 0, 0, 0, 0, 0, 0, 0, 0, 0, 0, 1, 0, 0, 0]\n"
     ]
    }
   ],
   "source": []
  },
  {
   "cell_type": "code",
   "execution_count": null,
   "metadata": {
    "collapsed": true
   },
   "outputs": [],
   "source": []
  }
 ],
 "metadata": {
  "kernelspec": {
   "display_name": "Python 3",
   "language": "python",
   "name": "python3"
  },
  "language_info": {
   "codemirror_mode": {
    "name": "ipython",
    "version": 3
   },
   "file_extension": ".py",
   "mimetype": "text/x-python",
   "name": "python",
   "nbconvert_exporter": "python",
   "pygments_lexer": "ipython3",
   "version": "3.6.1"
  }
 },
 "nbformat": 4,
 "nbformat_minor": 2
}
